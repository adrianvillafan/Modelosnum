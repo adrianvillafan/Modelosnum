{
 "cells": [
  {
   "cell_type": "code",
   "execution_count": 2,
   "metadata": {},
   "outputs": [
    {
     "data": {
      "text/latex": [
       "Declaramos datos del ejercicio"
      ],
      "text/plain": [
       "<IPython.core.display.Latex object>"
      ]
     },
     "metadata": {},
     "output_type": "display_data"
    },
    {
     "data": {
      "text/latex": [
       "$\\displaystyle f{\\left(y \\right)} = 0.2 y$"
      ],
      "text/plain": [
       "Eq(f(y), 0.2*y)"
      ]
     },
     "metadata": {},
     "output_type": "display_data"
    },
    {
     "data": {
      "text/latex": [
       "$\\displaystyle h = 0.1$"
      ],
      "text/plain": [
       "Eq(h, 0.1)"
      ]
     },
     "metadata": {},
     "output_type": "display_data"
    },
    {
     "data": {
      "text/latex": [
       "$\\displaystyle y_{0} = 50$"
      ],
      "text/plain": [
       "Eq(y0, 50)"
      ]
     },
     "metadata": {},
     "output_type": "display_data"
    },
    {
     "data": {
      "text/latex": [
       "$\\displaystyle t_{0} = 0$"
      ],
      "text/plain": [
       "Eq(t0, 0)"
      ]
     },
     "metadata": {},
     "output_type": "display_data"
    },
    {
     "data": {
      "text/latex": [
       "$\\displaystyle t_{f} = 1$"
      ],
      "text/plain": [
       "Eq(t_f, 1)"
      ]
     },
     "metadata": {},
     "output_type": "display_data"
    }
   ],
   "source": [
    "from IPython.display import display , Latex\n",
    "from sympy import *\n",
    "y,t  = symbols('y t')\n",
    "f = Function('f')\n",
    "f = 0.2*y #Valor de y'\n",
    "h = 0.1 #valor de h \n",
    "y0 = 50 #valor inicial de y\n",
    "t0 = 0 #valor inicial de t\n",
    "tf = 1 #valor final de t\n",
    "display(Latex('Declaramos datos del ejercicio'))\n",
    "display(Eq(S('f(y)'),f) , Eq(S('h'),h) , Eq(S('y0'),y0), Eq(S('t0'),t0), Eq(S('t_f'),tf))"
   ]
  },
  {
   "cell_type": "code",
   "execution_count": 3,
   "metadata": {},
   "outputs": [
    {
     "data": {
      "text/latex": [
       "Definimos los valores que tendrá $t_i$"
      ],
      "text/plain": [
       "<IPython.core.display.Latex object>"
      ]
     },
     "metadata": {},
     "output_type": "display_data"
    },
    {
     "data": {
      "text/latex": [
       "$\\displaystyle t_{0} = 0$"
      ],
      "text/plain": [
       "Eq(t0, 0)"
      ]
     },
     "metadata": {},
     "output_type": "display_data"
    },
    {
     "data": {
      "text/latex": [
       "$\\displaystyle t_{1} = 0.1$"
      ],
      "text/plain": [
       "Eq(t1, 0.1)"
      ]
     },
     "metadata": {},
     "output_type": "display_data"
    },
    {
     "data": {
      "text/latex": [
       "$\\displaystyle t_{2} = 0.2$"
      ],
      "text/plain": [
       "Eq(t2, 0.2)"
      ]
     },
     "metadata": {},
     "output_type": "display_data"
    },
    {
     "data": {
      "text/latex": [
       "$\\displaystyle t_{3} = 0.3$"
      ],
      "text/plain": [
       "Eq(t3, 0.3)"
      ]
     },
     "metadata": {},
     "output_type": "display_data"
    },
    {
     "data": {
      "text/latex": [
       "$\\displaystyle t_{4} = 0.4$"
      ],
      "text/plain": [
       "Eq(t4, 0.4)"
      ]
     },
     "metadata": {},
     "output_type": "display_data"
    },
    {
     "data": {
      "text/latex": [
       "$\\displaystyle t_{5} = 0.5$"
      ],
      "text/plain": [
       "Eq(t5, 0.5)"
      ]
     },
     "metadata": {},
     "output_type": "display_data"
    },
    {
     "data": {
      "text/latex": [
       "$\\displaystyle t_{6} = 0.6$"
      ],
      "text/plain": [
       "Eq(t6, 0.6)"
      ]
     },
     "metadata": {},
     "output_type": "display_data"
    },
    {
     "data": {
      "text/latex": [
       "$\\displaystyle t_{7} = 0.7$"
      ],
      "text/plain": [
       "Eq(t7, 0.7)"
      ]
     },
     "metadata": {},
     "output_type": "display_data"
    },
    {
     "data": {
      "text/latex": [
       "$\\displaystyle t_{8} = 0.8$"
      ],
      "text/plain": [
       "Eq(t8, 0.8)"
      ]
     },
     "metadata": {},
     "output_type": "display_data"
    },
    {
     "data": {
      "text/latex": [
       "$\\displaystyle t_{9} = 0.9$"
      ],
      "text/plain": [
       "Eq(t9, 0.9)"
      ]
     },
     "metadata": {},
     "output_type": "display_data"
    },
    {
     "data": {
      "text/latex": [
       "$\\displaystyle t_{10} = 1.0$"
      ],
      "text/plain": [
       "Eq(t10, 1.0)"
      ]
     },
     "metadata": {},
     "output_type": "display_data"
    }
   ],
   "source": [
    "ti=[t0]\n",
    "display(Latex('Definimos los valores que tendrá $t_i$'))\n",
    "ex=(tf/h)\n",
    "for i in range(0,int(ex)):\n",
    "      res = ti[i]+h\n",
    "      ti.append(res)\n",
    "      r= str(i)\n",
    "      s = str('t'+r)\n",
    "      display(Eq(S(s),ti[i]))\n",
    "jh= 't'+str(len(ti)-1)\n",
    "display(Eq(S(jh),ti[-1]))"
   ]
  },
  {
   "cell_type": "code",
   "execution_count": 4,
   "metadata": {},
   "outputs": [
    {
     "data": {
      "text/latex": [
       "$\\displaystyle y_{1} = 0.02 y + 50$"
      ],
      "text/plain": [
       "Eq(y1, 0.02*y + 50)"
      ]
     },
     "metadata": {},
     "output_type": "display_data"
    },
    {
     "data": {
      "text/latex": [
       "$\\displaystyle y_{1} = 51.0$"
      ],
      "text/plain": [
       "Eq(y1, 51.0)"
      ]
     },
     "metadata": {},
     "output_type": "display_data"
    },
    {
     "data": {
      "text/latex": [
       "$\\displaystyle y_{2} = 0.02 y + 51.0$"
      ],
      "text/plain": [
       "Eq(y2, 0.02*y + 51.0)"
      ]
     },
     "metadata": {},
     "output_type": "display_data"
    },
    {
     "data": {
      "text/latex": [
       "$\\displaystyle y_{2} = 52.02$"
      ],
      "text/plain": [
       "Eq(y2, 52.02)"
      ]
     },
     "metadata": {},
     "output_type": "display_data"
    },
    {
     "data": {
      "text/latex": [
       "$\\displaystyle y_{3} = 0.02 y + 52.02$"
      ],
      "text/plain": [
       "Eq(y3, 0.02*y + 52.02)"
      ]
     },
     "metadata": {},
     "output_type": "display_data"
    },
    {
     "data": {
      "text/latex": [
       "$\\displaystyle y_{3} = 53.0604$"
      ],
      "text/plain": [
       "Eq(y3, 53.0604)"
      ]
     },
     "metadata": {},
     "output_type": "display_data"
    },
    {
     "data": {
      "text/latex": [
       "$\\displaystyle y_{4} = 0.02 y + 53.0604$"
      ],
      "text/plain": [
       "Eq(y4, 0.02*y + 53.0604)"
      ]
     },
     "metadata": {},
     "output_type": "display_data"
    },
    {
     "data": {
      "text/latex": [
       "$\\displaystyle y_{4} = 54.121608$"
      ],
      "text/plain": [
       "Eq(y4, 54.121608)"
      ]
     },
     "metadata": {},
     "output_type": "display_data"
    },
    {
     "data": {
      "text/latex": [
       "$\\displaystyle y_{5} = 0.02 y + 54.121608$"
      ],
      "text/plain": [
       "Eq(y5, 0.02*y + 54.121608)"
      ]
     },
     "metadata": {},
     "output_type": "display_data"
    },
    {
     "data": {
      "text/latex": [
       "$\\displaystyle y_{5} = 55.20404016$"
      ],
      "text/plain": [
       "Eq(y5, 55.20404016)"
      ]
     },
     "metadata": {},
     "output_type": "display_data"
    },
    {
     "data": {
      "text/latex": [
       "$\\displaystyle y_{6} = 0.02 y + 55.20404016$"
      ],
      "text/plain": [
       "Eq(y6, 0.02*y + 55.20404016)"
      ]
     },
     "metadata": {},
     "output_type": "display_data"
    },
    {
     "data": {
      "text/latex": [
       "$\\displaystyle y_{6} = 56.3081209632$"
      ],
      "text/plain": [
       "Eq(y6, 56.3081209632)"
      ]
     },
     "metadata": {},
     "output_type": "display_data"
    },
    {
     "data": {
      "text/latex": [
       "$\\displaystyle y_{7} = 0.02 y + 56.3081209632$"
      ],
      "text/plain": [
       "Eq(y7, 0.02*y + 56.3081209632)"
      ]
     },
     "metadata": {},
     "output_type": "display_data"
    },
    {
     "data": {
      "text/latex": [
       "$\\displaystyle y_{7} = 57.434283382464$"
      ],
      "text/plain": [
       "Eq(y7, 57.434283382464)"
      ]
     },
     "metadata": {},
     "output_type": "display_data"
    },
    {
     "data": {
      "text/latex": [
       "$\\displaystyle y_{8} = 0.02 y + 57.434283382464$"
      ],
      "text/plain": [
       "Eq(y8, 0.02*y + 57.434283382464)"
      ]
     },
     "metadata": {},
     "output_type": "display_data"
    },
    {
     "data": {
      "text/latex": [
       "$\\displaystyle y_{8} = 58.5829690501133$"
      ],
      "text/plain": [
       "Eq(y8, 58.5829690501133)"
      ]
     },
     "metadata": {},
     "output_type": "display_data"
    },
    {
     "data": {
      "text/latex": [
       "$\\displaystyle y_{9} = 0.02 y + 58.5829690501133$"
      ],
      "text/plain": [
       "Eq(y9, 0.02*y + 58.5829690501133)"
      ]
     },
     "metadata": {},
     "output_type": "display_data"
    },
    {
     "data": {
      "text/latex": [
       "$\\displaystyle y_{9} = 59.7546284311155$"
      ],
      "text/plain": [
       "Eq(y9, 59.7546284311155)"
      ]
     },
     "metadata": {},
     "output_type": "display_data"
    },
    {
     "data": {
      "text/latex": [
       "$\\displaystyle y_{10} = 0.02 y + 59.7546284311155$"
      ],
      "text/plain": [
       "Eq(y10, 0.02*y + 59.7546284311155)"
      ]
     },
     "metadata": {},
     "output_type": "display_data"
    },
    {
     "data": {
      "text/latex": [
       "$\\displaystyle y_{10} = 60.9497209997379$"
      ],
      "text/plain": [
       "Eq(y10, 60.9497209997379)"
      ]
     },
     "metadata": {},
     "output_type": "display_data"
    },
    {
     "name": "stdout",
     "output_type": "stream",
     "text": [
      "[0.2*y]\n"
     ]
    }
   ],
   "source": [
    "fi=[f]\n",
    "yi=[y0]\n",
    "for i in range(0,int(ex)):\n",
    "    l = str(i+1)\n",
    "    a = yi[i] + (h * f)\n",
    "    display(Eq(S(\"y\"+l),a))\n",
    "    res = a.subs(t, ti[i]).subs(y, yi[i]).subs(h, h)\n",
    "    display(Eq(S(\"y\"+l),res.evalf()))\n",
    "    yi.append(res)\n",
    "print(fi)"
   ]
  }
 ],
 "metadata": {
  "kernelspec": {
   "display_name": "Python 3",
   "language": "python",
   "name": "python3"
  },
  "language_info": {
   "codemirror_mode": {
    "name": "ipython",
    "version": 3
   },
   "file_extension": ".py",
   "mimetype": "text/x-python",
   "name": "python",
   "nbconvert_exporter": "python",
   "pygments_lexer": "ipython3",
   "version": "3.11.3"
  },
  "orig_nbformat": 4
 },
 "nbformat": 4,
 "nbformat_minor": 2
}
