{
 "cells": [
  {
   "cell_type": "code",
   "execution_count": 1,
   "metadata": {},
   "outputs": [
    {
     "data": {
      "text/latex": [
       "Declaramos datos del ejercicio"
      ],
      "text/plain": [
       "<IPython.core.display.Latex object>"
      ]
     },
     "metadata": {},
     "output_type": "display_data"
    },
    {
     "data": {
      "text/latex": [
       "$\\displaystyle f{\\left(y \\right)} = t - y$"
      ],
      "text/plain": [
       "Eq(f(y), t - y)"
      ]
     },
     "metadata": {},
     "output_type": "display_data"
    },
    {
     "data": {
      "text/latex": [
       "$\\displaystyle h = 0.2$"
      ],
      "text/plain": [
       "Eq(h, 0.2)"
      ]
     },
     "metadata": {},
     "output_type": "display_data"
    },
    {
     "data": {
      "text/latex": [
       "$\\displaystyle y_{0} = 2$"
      ],
      "text/plain": [
       "Eq(y0, 2)"
      ]
     },
     "metadata": {},
     "output_type": "display_data"
    },
    {
     "data": {
      "text/latex": [
       "$\\displaystyle t_{0} = 0$"
      ],
      "text/plain": [
       "Eq(t0, 0)"
      ]
     },
     "metadata": {},
     "output_type": "display_data"
    },
    {
     "data": {
      "text/latex": [
       "$\\displaystyle t_{f} = 1$"
      ],
      "text/plain": [
       "Eq(t_f, 1)"
      ]
     },
     "metadata": {},
     "output_type": "display_data"
    }
   ],
   "source": [
    "from IPython.display import display , Latex\n",
    "from sympy import *\n",
    "y,t  = symbols('y t')\n",
    "f = Function('f')\n",
    "f = t-y #Valor de y'\n",
    "h = 0.2 #valor de h \n",
    "y0 = 2 #valor inicial de y\n",
    "t0 = 0 #valor inicial de t\n",
    "tf = 1 #valor final de t\n",
    "display(Latex('Declaramos datos del ejercicio'))\n",
    "display(Eq(S('f(y)'),f) , Eq(S('h'),h) , Eq(S('y0'),y0), Eq(S('t0'),t0), Eq(S('t_f'),tf))"
   ]
  },
  {
   "cell_type": "code",
   "execution_count": 2,
   "metadata": {},
   "outputs": [
    {
     "data": {
      "text/latex": [
       "Definimos los valores que tendrá $t_i$"
      ],
      "text/plain": [
       "<IPython.core.display.Latex object>"
      ]
     },
     "metadata": {},
     "output_type": "display_data"
    },
    {
     "data": {
      "text/latex": [
       "$\\displaystyle t_{0} = 0$"
      ],
      "text/plain": [
       "Eq(t0, 0)"
      ]
     },
     "metadata": {},
     "output_type": "display_data"
    },
    {
     "data": {
      "text/latex": [
       "$\\displaystyle t_{1} = 0.2$"
      ],
      "text/plain": [
       "Eq(t1, 0.2)"
      ]
     },
     "metadata": {},
     "output_type": "display_data"
    },
    {
     "data": {
      "text/latex": [
       "$\\displaystyle t_{2} = 0.4$"
      ],
      "text/plain": [
       "Eq(t2, 0.4)"
      ]
     },
     "metadata": {},
     "output_type": "display_data"
    },
    {
     "data": {
      "text/latex": [
       "$\\displaystyle t_{3} = 0.6$"
      ],
      "text/plain": [
       "Eq(t3, 0.6)"
      ]
     },
     "metadata": {},
     "output_type": "display_data"
    },
    {
     "data": {
      "text/latex": [
       "$\\displaystyle t_{4} = 0.8$"
      ],
      "text/plain": [
       "Eq(t4, 0.8)"
      ]
     },
     "metadata": {},
     "output_type": "display_data"
    },
    {
     "data": {
      "text/latex": [
       "$\\displaystyle t_{5} = 1.0$"
      ],
      "text/plain": [
       "Eq(t5, 1.0)"
      ]
     },
     "metadata": {},
     "output_type": "display_data"
    }
   ],
   "source": [
    "ti=[t0]\n",
    "display(Latex('Definimos los valores que tendrá $t_i$'))\n",
    "ex=(tf/h)\n",
    "for i in range(0,int(ex)):\n",
    "      res = ti[i]+h\n",
    "      ti.append(res)\n",
    "      r= str(i)\n",
    "      s = str('t'+r)\n",
    "      display(Eq(S(s),ti[i]))\n",
    "jh= 't'+str(len(ti)-1)\n",
    "display(Eq(S(jh),ti[-1]))"
   ]
  },
  {
   "cell_type": "code",
   "execution_count": 3,
   "metadata": {},
   "outputs": [
    {
     "data": {
      "text/latex": [
       "$\\displaystyle z_{1} = 0.2 t - 0.2 y + 2$"
      ],
      "text/plain": [
       "Eq(z1, 0.2*t - 0.2*y + 2)"
      ]
     },
     "metadata": {},
     "output_type": "display_data"
    },
    {
     "data": {
      "text/latex": [
       "$\\displaystyle y_{1} = 1.66$"
      ],
      "text/plain": [
       "Eq(y1, 1.66)"
      ]
     },
     "metadata": {},
     "output_type": "display_data"
    },
    {
     "data": {
      "text/latex": [
       "$\\displaystyle z_{2} = 0.2 t - 0.2 y + 1.66$"
      ],
      "text/plain": [
       "Eq(z2, 0.2*t - 0.2*y + 1.66)"
      ]
     },
     "metadata": {},
     "output_type": "display_data"
    },
    {
     "data": {
      "text/latex": [
       "$\\displaystyle y_{2} = 1.4172$"
      ],
      "text/plain": [
       "Eq(y2, 1.4172)"
      ]
     },
     "metadata": {},
     "output_type": "display_data"
    },
    {
     "data": {
      "text/latex": [
       "$\\displaystyle z_{3} = 0.2 t - 0.2 y + 1.4172$"
      ],
      "text/plain": [
       "Eq(z3, 0.2*t - 0.2*y + 1.4172)"
      ]
     },
     "metadata": {},
     "output_type": "display_data"
    },
    {
     "data": {
      "text/latex": [
       "$\\displaystyle y_{3} = 1.254104$"
      ],
      "text/plain": [
       "Eq(y3, 1.254104)"
      ]
     },
     "metadata": {},
     "output_type": "display_data"
    },
    {
     "data": {
      "text/latex": [
       "$\\displaystyle z_{4} = 0.2 t - 0.2 y + 1.254104$"
      ],
      "text/plain": [
       "Eq(z4, 0.2*t - 0.2*y + 1.254104)"
      ]
     },
     "metadata": {},
     "output_type": "display_data"
    },
    {
     "data": {
      "text/latex": [
       "$\\displaystyle y_{4} = 1.15636528$"
      ],
      "text/plain": [
       "Eq(y4, 1.15636528)"
      ]
     },
     "metadata": {},
     "output_type": "display_data"
    },
    {
     "data": {
      "text/latex": [
       "$\\displaystyle z_{5} = 0.2 t - 0.2 y + 1.15636528$"
      ],
      "text/plain": [
       "Eq(z5, 0.2*t - 0.2*y + 1.15636528)"
      ]
     },
     "metadata": {},
     "output_type": "display_data"
    },
    {
     "data": {
      "text/latex": [
       "$\\displaystyle y_{5} = 1.1122195296$"
      ],
      "text/plain": [
       "Eq(y5, 1.1122195296)"
      ]
     },
     "metadata": {},
     "output_type": "display_data"
    },
    {
     "name": "stdout",
     "output_type": "stream",
     "text": [
      "[t - y]\n"
     ]
    }
   ],
   "source": [
    "fi=[f]\n",
    "yi=[y0]\n",
    "zi=[0]\n",
    "for i in range(0,int(ex)):\n",
    "    l = str(i+1)\n",
    "    z = yi[i] + (h * f)\n",
    "    res = z.subs(t, ti[i]).subs(y, yi[i]).subs(h, h)\n",
    "    zi.append(res)\n",
    "    fa = f.subs(t, ti[i]).subs(y, yi[i]).subs(h, h)\n",
    "    fb = f.subs(t, ti[i+1]).subs(y, zi[i+1]).subs(h, h)\n",
    "    yf = yi[i] + (h/2)*(fa + fb)\n",
    "    display(Eq(S(\"z\"+l),z))\n",
    "    yres = yf.subs(t, ti[i]).subs(y, yi[i]).subs(h, h)\n",
    "    yi.append(yres)\n",
    "    display(Eq(S(\"y\"+l),yres.evalf()))\n",
    "    \n",
    "print(fi)"
   ]
  }
 ],
 "metadata": {
  "kernelspec": {
   "display_name": "Python 3",
   "language": "python",
   "name": "python3"
  },
  "language_info": {
   "codemirror_mode": {
    "name": "ipython",
    "version": 3
   },
   "file_extension": ".py",
   "mimetype": "text/x-python",
   "name": "python",
   "nbconvert_exporter": "python",
   "pygments_lexer": "ipython3",
   "version": "3.11.3"
  },
  "orig_nbformat": 4
 },
 "nbformat": 4,
 "nbformat_minor": 2
}
