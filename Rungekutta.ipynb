{
 "cells": [
  {
   "cell_type": "code",
   "execution_count": 1,
   "metadata": {},
   "outputs": [
    {
     "data": {
      "text/latex": [
       "Declaramos datos del ejercicio"
      ],
      "text/plain": [
       "<IPython.core.display.Latex object>"
      ]
     },
     "metadata": {},
     "output_type": "display_data"
    },
    {
     "data": {
      "text/latex": [
       "$\\displaystyle f{\\left(t,y \\right)} = t - y$"
      ],
      "text/plain": [
       "Eq(f(t, y), t - y)"
      ]
     },
     "metadata": {},
     "output_type": "display_data"
    },
    {
     "data": {
      "text/latex": [
       "$\\displaystyle h = 0.2$"
      ],
      "text/plain": [
       "Eq(h, 0.2)"
      ]
     },
     "metadata": {},
     "output_type": "display_data"
    },
    {
     "data": {
      "text/latex": [
       "$\\displaystyle y_{0} = 2$"
      ],
      "text/plain": [
       "Eq(y0, 2)"
      ]
     },
     "metadata": {},
     "output_type": "display_data"
    },
    {
     "data": {
      "text/latex": [
       "$\\displaystyle t_{0} = 0$"
      ],
      "text/plain": [
       "Eq(t0, 0)"
      ]
     },
     "metadata": {},
     "output_type": "display_data"
    },
    {
     "data": {
      "text/latex": [
       "$\\displaystyle t_{f} = 1$"
      ],
      "text/plain": [
       "Eq(t_f, 1)"
      ]
     },
     "metadata": {},
     "output_type": "display_data"
    }
   ],
   "source": [
    "from IPython.display import display , Latex\n",
    "from sympy import *\n",
    "y , t  = symbols('y t')\n",
    "f = Function('f')\n",
    "f = t-y #Valor de y'\n",
    "h = 0.2 #valor de h\n",
    "y0 = 2 #valor inicial de y\n",
    "t0 = 0 #valor inicial de t\n",
    "tf = 1 #valor final de t\n",
    "display(Latex('Declaramos datos del ejercicio'))\n",
    "display(Eq(S('f(t,y)'),f) , Eq(S('h'),h) , Eq(S('y0'),y0), Eq(S('t0'),t0), Eq(S('t_f'),tf))"
   ]
  },
  {
   "cell_type": "code",
   "execution_count": 2,
   "metadata": {},
   "outputs": [
    {
     "data": {
      "text/latex": [
       "Definimos los valores que tendrá $t_i$"
      ],
      "text/plain": [
       "<IPython.core.display.Latex object>"
      ]
     },
     "metadata": {},
     "output_type": "display_data"
    },
    {
     "data": {
      "text/latex": [
       "$\\displaystyle t_{0} = 0$"
      ],
      "text/plain": [
       "Eq(t0, 0)"
      ]
     },
     "metadata": {},
     "output_type": "display_data"
    },
    {
     "data": {
      "text/latex": [
       "$\\displaystyle t_{1} = 0.2$"
      ],
      "text/plain": [
       "Eq(t1, 0.2)"
      ]
     },
     "metadata": {},
     "output_type": "display_data"
    },
    {
     "data": {
      "text/latex": [
       "$\\displaystyle t_{2} = 0.4$"
      ],
      "text/plain": [
       "Eq(t2, 0.4)"
      ]
     },
     "metadata": {},
     "output_type": "display_data"
    },
    {
     "data": {
      "text/latex": [
       "$\\displaystyle t_{3} = 0.6$"
      ],
      "text/plain": [
       "Eq(t3, 0.6)"
      ]
     },
     "metadata": {},
     "output_type": "display_data"
    },
    {
     "data": {
      "text/latex": [
       "$\\displaystyle t_{4} = 0.8$"
      ],
      "text/plain": [
       "Eq(t4, 0.8)"
      ]
     },
     "metadata": {},
     "output_type": "display_data"
    },
    {
     "data": {
      "text/latex": [
       "$\\displaystyle t_{5} = 1.0$"
      ],
      "text/plain": [
       "Eq(t5, 1.0)"
      ]
     },
     "metadata": {},
     "output_type": "display_data"
    }
   ],
   "source": [
    "ti=[t0]\n",
    "display(Latex('Definimos los valores que tendrá $t_i$'))\n",
    "ex=(tf/h)\n",
    "for i in range(0,int(ex)):\n",
    "      res = ti[i]+h\n",
    "      ti.append(res)\n",
    "      r= str(i)\n",
    "      s = str('t'+r)\n",
    "      display(Eq(S(s),ti[i]))\n",
    "jh= 't'+str(len(ti)-1)\n",
    "display(Eq(S(jh),ti[-1]))"
   ]
  },
  {
   "cell_type": "code",
   "execution_count": 3,
   "metadata": {},
   "outputs": [
    {
     "data": {
      "text/latex": [
       "Método de Runge Kutta de orden 4:"
      ],
      "text/plain": [
       "<IPython.core.display.Latex object>"
      ]
     },
     "metadata": {},
     "output_type": "display_data"
    },
    {
     "data": {
      "text/latex": [
       "Iteración número: 1"
      ],
      "text/plain": [
       "<IPython.core.display.Latex object>"
      ]
     },
     "metadata": {},
     "output_type": "display_data"
    },
    {
     "data": {
      "text/latex": [
       "$k_{1}=h \\cdot f(t,y)={0.2 t - 0.2 y}={-0.4}$"
      ],
      "text/plain": [
       "<IPython.core.display.Latex object>"
      ]
     },
     "metadata": {},
     "output_type": "display_data"
    },
    {
     "data": {
      "text/latex": [
       "$k_{2}=h \\cdot f(x+\\dfrac{h}{2},y+\\dfrac{k_{1}}{2})={0.18 t - 0.18 y + 0.02}={-0.34}$"
      ],
      "text/plain": [
       "<IPython.core.display.Latex object>"
      ]
     },
     "metadata": {},
     "output_type": "display_data"
    },
    {
     "data": {
      "text/latex": [
       "$k_{3}=h \\cdot f(x+\\dfrac{h}{2},y+\\dfrac{k_{2}}{2} )={0.182 t - 0.182 y + 0.018}={-0.346}$"
      ],
      "text/plain": [
       "<IPython.core.display.Latex object>"
      ]
     },
     "metadata": {},
     "output_type": "display_data"
    },
    {
     "data": {
      "text/latex": [
       "$k_{4}=h \\cdot f(x+{h},y+{k_{3}})={0.1636 t - 0.1636 y + 0.0364}={-0.2908}$"
      ],
      "text/plain": [
       "<IPython.core.display.Latex object>"
      ]
     },
     "metadata": {},
     "output_type": "display_data"
    },
    {
     "data": {
      "text/latex": [
       "$y_{1}=y_{0}+ \\dfrac{1}{6}[k_{1}+2k_{2}+2k_{3}+k_{4}]$"
      ],
      "text/plain": [
       "<IPython.core.display.Latex object>"
      ]
     },
     "metadata": {},
     "output_type": "display_data"
    },
    {
     "data": {
      "text/latex": [
       "$y_{1}=2+ \\dfrac{1}{6}[-0.4+2 \\cdot-0.34+2 \\cdot-0.346+-0.2908]$"
      ],
      "text/plain": [
       "<IPython.core.display.Latex object>"
      ]
     },
     "metadata": {},
     "output_type": "display_data"
    },
    {
     "data": {
      "text/latex": [
       "$\\displaystyle y_{1} = 1.6562$"
      ],
      "text/plain": [
       "Eq(y1, 1.6562)"
      ]
     },
     "metadata": {},
     "output_type": "display_data"
    },
    {
     "data": {
      "text/latex": [
       "Iteración número: 2"
      ],
      "text/plain": [
       "<IPython.core.display.Latex object>"
      ]
     },
     "metadata": {},
     "output_type": "display_data"
    },
    {
     "data": {
      "text/latex": [
       "$k_{1}=h \\cdot f(t,y)={0.2 t - 0.2 y}={-0.29124}$"
      ],
      "text/plain": [
       "<IPython.core.display.Latex object>"
      ]
     },
     "metadata": {},
     "output_type": "display_data"
    },
    {
     "data": {
      "text/latex": [
       "$k_{2}=h \\cdot f(x+\\dfrac{h}{2},y+\\dfrac{k_{1}}{2})={0.18 t - 0.18 y + 0.02}={-0.242116}$"
      ],
      "text/plain": [
       "<IPython.core.display.Latex object>"
      ]
     },
     "metadata": {},
     "output_type": "display_data"
    },
    {
     "data": {
      "text/latex": [
       "$k_{3}=h \\cdot f(x+\\dfrac{h}{2},y+\\dfrac{k_{2}}{2} )={0.182 t - 0.182 y + 0.018}={-0.2470284}$"
      ],
      "text/plain": [
       "<IPython.core.display.Latex object>"
      ]
     },
     "metadata": {},
     "output_type": "display_data"
    },
    {
     "data": {
      "text/latex": [
       "$k_{4}=h \\cdot f(x+{h},y+{k_{3}})={0.1636 t - 0.1636 y + 0.0364}={-0.20183432}$"
      ],
      "text/plain": [
       "<IPython.core.display.Latex object>"
      ]
     },
     "metadata": {},
     "output_type": "display_data"
    },
    {
     "data": {
      "text/latex": [
       "$y_{2}=y_{1}+ \\dfrac{1}{6}[k_{1}+2k_{2}+2k_{3}+k_{4}]$"
      ],
      "text/plain": [
       "<IPython.core.display.Latex object>"
      ]
     },
     "metadata": {},
     "output_type": "display_data"
    },
    {
     "data": {
      "text/latex": [
       "$y_{2}=2+ \\dfrac{1}{6}[-0.29124+2 \\cdot-0.242116+2 \\cdot-0.2470284+-0.20183432]$"
      ],
      "text/plain": [
       "<IPython.core.display.Latex object>"
      ]
     },
     "metadata": {},
     "output_type": "display_data"
    },
    {
     "data": {
      "text/latex": [
       "$\\displaystyle y_{2} = 1.41097281333333$"
      ],
      "text/plain": [
       "Eq(y2, 1.41097281333333)"
      ]
     },
     "metadata": {},
     "output_type": "display_data"
    },
    {
     "data": {
      "text/latex": [
       "Iteración número: 3"
      ],
      "text/plain": [
       "<IPython.core.display.Latex object>"
      ]
     },
     "metadata": {},
     "output_type": "display_data"
    },
    {
     "data": {
      "text/latex": [
       "$k_{1}=h \\cdot f(t,y)={0.2 t - 0.2 y}={-0.202194562666667}$"
      ],
      "text/plain": [
       "<IPython.core.display.Latex object>"
      ]
     },
     "metadata": {},
     "output_type": "display_data"
    },
    {
     "data": {
      "text/latex": [
       "$k_{2}=h \\cdot f(x+\\dfrac{h}{2},y+\\dfrac{k_{1}}{2})={0.18 t - 0.18 y + 0.02}={-0.1619751064}$"
      ],
      "text/plain": [
       "<IPython.core.display.Latex object>"
      ]
     },
     "metadata": {},
     "output_type": "display_data"
    },
    {
     "data": {
      "text/latex": [
       "$k_{3}=h \\cdot f(x+\\dfrac{h}{2},y+\\dfrac{k_{2}}{2} )={0.182 t - 0.182 y + 0.018}={-0.165997052026667}$"
      ],
      "text/plain": [
       "<IPython.core.display.Latex object>"
      ]
     },
     "metadata": {},
     "output_type": "display_data"
    },
    {
     "data": {
      "text/latex": [
       "$k_{4}=h \\cdot f(x+{h},y+{k_{3}})={0.1636 t - 0.1636 y + 0.0364}={-0.128995152261333}$"
      ],
      "text/plain": [
       "<IPython.core.display.Latex object>"
      ]
     },
     "metadata": {},
     "output_type": "display_data"
    },
    {
     "data": {
      "text/latex": [
       "$y_{3}=y_{2}+ \\dfrac{1}{6}[k_{1}+2k_{2}+2k_{3}+k_{4}]$"
      ],
      "text/plain": [
       "<IPython.core.display.Latex object>"
      ]
     },
     "metadata": {},
     "output_type": "display_data"
    },
    {
     "data": {
      "text/latex": [
       "$y_{3}=2+ \\dfrac{1}{6}[-0.202194562666667+2 \\cdot-0.1619751064+2 \\cdot-0.165997052026667+-0.128995152261333]$"
      ],
      "text/plain": [
       "<IPython.core.display.Latex object>"
      ]
     },
     "metadata": {},
     "output_type": "display_data"
    },
    {
     "data": {
      "text/latex": [
       "$\\displaystyle y_{3} = 1.24645047470311$"
      ],
      "text/plain": [
       "Eq(y3, 1.24645047470311)"
      ]
     },
     "metadata": {},
     "output_type": "display_data"
    },
    {
     "data": {
      "text/latex": [
       "Iteración número: 4"
      ],
      "text/plain": [
       "<IPython.core.display.Latex object>"
      ]
     },
     "metadata": {},
     "output_type": "display_data"
    },
    {
     "data": {
      "text/latex": [
       "$k_{1}=h \\cdot f(t,y)={0.2 t - 0.2 y}={-0.129290094940622}$"
      ],
      "text/plain": [
       "<IPython.core.display.Latex object>"
      ]
     },
     "metadata": {},
     "output_type": "display_data"
    },
    {
     "data": {
      "text/latex": [
       "$k_{2}=h \\cdot f(x+\\dfrac{h}{2},y+\\dfrac{k_{1}}{2})={0.18 t - 0.18 y + 0.02}={-0.09636108544656}$"
      ],
      "text/plain": [
       "<IPython.core.display.Latex object>"
      ]
     },
     "metadata": {},
     "output_type": "display_data"
    },
    {
     "data": {
      "text/latex": [
       "$k_{3}=h \\cdot f(x+\\dfrac{h}{2},y+\\dfrac{k_{2}}{2} )={0.182 t - 0.182 y + 0.018}={-0.0996539863959662}$"
      ],
      "text/plain": [
       "<IPython.core.display.Latex object>"
      ]
     },
     "metadata": {},
     "output_type": "display_data"
    },
    {
     "data": {
      "text/latex": [
       "$k_{4}=h \\cdot f(x+{h},y+{k_{3}})={0.1636 t - 0.1636 y + 0.0364}={-0.069359297661429}$"
      ],
      "text/plain": [
       "<IPython.core.display.Latex object>"
      ]
     },
     "metadata": {},
     "output_type": "display_data"
    },
    {
     "data": {
      "text/latex": [
       "$y_{4}=y_{3}+ \\dfrac{1}{6}[k_{1}+2k_{2}+2k_{3}+k_{4}]$"
      ],
      "text/plain": [
       "<IPython.core.display.Latex object>"
      ]
     },
     "metadata": {},
     "output_type": "display_data"
    },
    {
     "data": {
      "text/latex": [
       "$y_{4}=2+ \\dfrac{1}{6}[-0.129290094940622+2 \\cdot-0.09636108544656+2 \\cdot-0.0996539863959662+-0.069359297661429]$"
      ],
      "text/plain": [
       "<IPython.core.display.Latex object>"
      ]
     },
     "metadata": {},
     "output_type": "display_data"
    },
    {
     "data": {
      "text/latex": [
       "$\\displaystyle y_{4} = 1.14800388532193$"
      ],
      "text/plain": [
       "Eq(y4, 1.14800388532193)"
      ]
     },
     "metadata": {},
     "output_type": "display_data"
    },
    {
     "data": {
      "text/latex": [
       "Iteración número: 5"
      ],
      "text/plain": [
       "<IPython.core.display.Latex object>"
      ]
     },
     "metadata": {},
     "output_type": "display_data"
    },
    {
     "data": {
      "text/latex": [
       "$k_{1}=h \\cdot f(t,y)={0.2 t - 0.2 y}={-0.0696007770643854}$"
      ],
      "text/plain": [
       "<IPython.core.display.Latex object>"
      ]
     },
     "metadata": {},
     "output_type": "display_data"
    },
    {
     "data": {
      "text/latex": [
       "$k_{2}=h \\cdot f(x+\\dfrac{h}{2},y+\\dfrac{k_{1}}{2})={0.18 t - 0.18 y + 0.02}={-0.0426406993579469}$"
      ],
      "text/plain": [
       "<IPython.core.display.Latex object>"
      ]
     },
     "metadata": {},
     "output_type": "display_data"
    },
    {
     "data": {
      "text/latex": [
       "$k_{3}=h \\cdot f(x+\\dfrac{h}{2},y+\\dfrac{k_{2}}{2} )={0.182 t - 0.182 y + 0.018}={-0.0453367071285908}$"
      ],
      "text/plain": [
       "<IPython.core.display.Latex object>"
      ]
     },
     "metadata": {},
     "output_type": "display_data"
    },
    {
     "data": {
      "text/latex": [
       "$k_{4}=h \\cdot f(x+{h},y+{k_{3}})={0.1636 t - 0.1636 y + 0.0364}={-0.0205334356386673}$"
      ],
      "text/plain": [
       "<IPython.core.display.Latex object>"
      ]
     },
     "metadata": {},
     "output_type": "display_data"
    },
    {
     "data": {
      "text/latex": [
       "$y_{5}=y_{4}+ \\dfrac{1}{6}[k_{1}+2k_{2}+2k_{3}+k_{4}]$"
      ],
      "text/plain": [
       "<IPython.core.display.Latex object>"
      ]
     },
     "metadata": {},
     "output_type": "display_data"
    },
    {
     "data": {
      "text/latex": [
       "$y_{5}=2+ \\dfrac{1}{6}[-0.0696007770643854+2 \\cdot-0.0426406993579469+2 \\cdot-0.0453367071285908+-0.0205334356386673]$"
      ],
      "text/plain": [
       "<IPython.core.display.Latex object>"
      ]
     },
     "metadata": {},
     "output_type": "display_data"
    },
    {
     "data": {
      "text/latex": [
       "$\\displaystyle y_{5} = 1.10365571437591$"
      ],
      "text/plain": [
       "Eq(y5, 1.10365571437591)"
      ]
     },
     "metadata": {},
     "output_type": "display_data"
    }
   ],
   "source": [
    "def k(x,q):\n",
    "    eq = h*f\n",
    "    k1 = eq.subs(t, x).subs(y, q)\n",
    "    k2 = eq.subs(t, x+(h/2)).subs(y, (q +(k1/2)))\n",
    "    k3 = eq.subs(t, x+(h/2)).subs(y, (q +(k2/2)))\n",
    "    k4 = eq.subs(t, x+h).subs(y, (q +k3))\n",
    "    return [k1, k2, k3, k4]\n",
    "\n",
    "def teo():\n",
    "    k1 = 'h \\cdot f(t,y)'\n",
    "    k2 = \"h \\cdot f(x+\\dfrac{h}{2},y+\\dfrac{k_{1}}{2})\"\n",
    "    k3 = \"h \\cdot f(x+\\dfrac{h}{2},y+\\dfrac{k_{2}}{2} )\"\n",
    "    k4 = \"h \\cdot f(x+{h},y+{k_{3}})\"\n",
    "    return [k1, k2, k3, k4]\n",
    "\n",
    "display(Latex('Método de Runge Kutta de orden 4:'))\n",
    "\n",
    "yi=[y0]\n",
    "for j in range(0,len(ti)-1):\n",
    "    display(Latex('Iteración número: '+ str(j+1)))\n",
    "    p = ti[j]\n",
    "    o = yi[j]\n",
    "    for i in range(1,5):\n",
    "        n=str(i)\n",
    "        g=str(i-1)\n",
    "        display(Latex('$k_{'+n+'}='+teo()[i-1]+'={'+latex(k(t,y)[i-1])+'}={'+latex(k(p,o)[i-1])+'}$'))\n",
    "    display(Latex('$y_{'+str(j+1)+'}=y_{'+str(j)+'}+ \\dfrac{1}{6}[k_{1}+2k_{2}+2k_{3}+k_{4}]$'))\n",
    "    display(Latex('$y_{'+str(j+1)+'}='+latex(y0)+'+ \\dfrac{1}{6}['+latex(k(p,o)[0])+'+2 \\cdot'+latex(k(p,o)[1])+'+2 \\cdot'+latex(k(p,o)[2])+'+'+latex(k(p,o)[3])+']$'))\n",
    "    ecu = yi[j]+ (k(p,o)[0]+(2*k(p,o)[1])+(2*k(p,o)[2])+k(p,o)[3])/6\n",
    "    display(Eq(S(\"y\"+str(j+1)),simplify(ecu)))\n",
    "    yi.append(simplify(ecu))\n",
    "    \n"
   ]
  }
 ],
 "metadata": {
  "kernelspec": {
   "display_name": "Python 3.8.10 64-bit",
   "language": "python",
   "name": "python3"
  },
  "language_info": {
   "codemirror_mode": {
    "name": "ipython",
    "version": 3
   },
   "file_extension": ".py",
   "mimetype": "text/x-python",
   "name": "python",
   "nbconvert_exporter": "python",
   "pygments_lexer": "ipython3",
   "version": "3.11.3"
  },
  "orig_nbformat": 4,
  "vscode": {
   "interpreter": {
    "hash": "916dbcbb3f70747c44a77c7bcd40155683ae19c65e1c03b4aa3499c5328201f1"
   }
  }
 },
 "nbformat": 4,
 "nbformat_minor": 2
}
