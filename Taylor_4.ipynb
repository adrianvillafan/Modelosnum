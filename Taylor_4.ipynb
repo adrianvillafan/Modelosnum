{
 "cells": [
  {
   "cell_type": "code",
   "execution_count": 1,
   "metadata": {},
   "outputs": [
    {
     "data": {
      "text/latex": [
       "Declaramos datos del ejercicio"
      ],
      "text/plain": [
       "<IPython.core.display.Latex object>"
      ]
     },
     "metadata": {},
     "output_type": "display_data"
    },
    {
     "data": {
      "text/latex": [
       "$\\displaystyle f{\\left(t,y \\right)} = t + y$"
      ],
      "text/plain": [
       "Eq(f(t, y), t + y)"
      ]
     },
     "metadata": {},
     "output_type": "display_data"
    },
    {
     "data": {
      "text/latex": [
       "$\\displaystyle h = 0.1$"
      ],
      "text/plain": [
       "Eq(h, 0.1)"
      ]
     },
     "metadata": {},
     "output_type": "display_data"
    },
    {
     "data": {
      "text/latex": [
       "$\\displaystyle y_{0} = 1$"
      ],
      "text/plain": [
       "Eq(y0, 1)"
      ]
     },
     "metadata": {},
     "output_type": "display_data"
    },
    {
     "data": {
      "text/latex": [
       "$\\displaystyle t_{0} = 0$"
      ],
      "text/plain": [
       "Eq(t0, 0)"
      ]
     },
     "metadata": {},
     "output_type": "display_data"
    },
    {
     "data": {
      "text/latex": [
       "$\\displaystyle t_{f} = 1$"
      ],
      "text/plain": [
       "Eq(t_f, 1)"
      ]
     },
     "metadata": {},
     "output_type": "display_data"
    }
   ],
   "source": [
    "from IPython.display import display , Latex\n",
    "from sympy import *\n",
    "y , t  = symbols('y t')\n",
    "f = Function('f')\n",
    "f = t+y #Valor de y'\n",
    "h = 0.1 #valor de h\n",
    "y0 = 1 #valor inicial de y\n",
    "t0 = 0 #valor inicial de t\n",
    "tf = 1 #valor final de t\n",
    "display(Latex('Declaramos datos del ejercicio'))\n",
    "display(Eq(S('f(t,y)'),f) , Eq(S('h'),h) , Eq(S('y0'),y0), Eq(S('t0'),t0), Eq(S('t_f'),tf))"
   ]
  },
  {
   "cell_type": "code",
   "execution_count": 2,
   "metadata": {},
   "outputs": [
    {
     "data": {
      "text/latex": [
       "Derivadas parciales de grado 1"
      ],
      "text/plain": [
       "<IPython.core.display.Latex object>"
      ]
     },
     "metadata": {},
     "output_type": "display_data"
    },
    {
     "data": {
      "text/latex": [
       "Forma:  $ \\quad f^{1}(t,y)= \\dfrac{\\partial \\:}{\\partial \\:t} f^{0}(t,y) + \\dfrac{\\partial \\:}{\\partial \\:y} f^{0}(t,y) \\dfrac{dy(t)}{dt}$"
      ],
      "text/plain": [
       "<IPython.core.display.Latex object>"
      ]
     },
     "metadata": {},
     "output_type": "display_data"
    },
    {
     "data": {
      "text/latex": [
       "$\\displaystyle f_{1} = \\left(t + y\\right) \\frac{\\partial}{\\partial y} \\left(t + y\\right) + \\frac{\\partial}{\\partial t} \\left(t + y\\right)$"
      ],
      "text/plain": [
       "Eq(f1, (t + y)*Derivative(t + y, y) + Derivative(t + y, t))"
      ]
     },
     "metadata": {},
     "output_type": "display_data"
    },
    {
     "data": {
      "text/latex": [
       "$\\displaystyle f_{1} = t + y + 1$"
      ],
      "text/plain": [
       "Eq(f1, t + y + 1)"
      ]
     },
     "metadata": {},
     "output_type": "display_data"
    },
    {
     "data": {
      "text/latex": [
       "$\\displaystyle f_{1} = t + y + 1$"
      ],
      "text/plain": [
       "Eq(f1, t + y + 1)"
      ]
     },
     "metadata": {},
     "output_type": "display_data"
    },
    {
     "data": {
      "text/latex": [
       "Derivadas parciales de grado 2"
      ],
      "text/plain": [
       "<IPython.core.display.Latex object>"
      ]
     },
     "metadata": {},
     "output_type": "display_data"
    },
    {
     "data": {
      "text/latex": [
       "Forma:  $ \\quad f^{2}(t,y)= \\dfrac{\\partial \\:}{\\partial \\:t} f^{1}(t,y) + \\dfrac{\\partial \\:}{\\partial \\:y} f^{1}(t,y) \\dfrac{dy(t)}{dt}$"
      ],
      "text/plain": [
       "<IPython.core.display.Latex object>"
      ]
     },
     "metadata": {},
     "output_type": "display_data"
    },
    {
     "data": {
      "text/latex": [
       "$\\displaystyle f_{2} = \\left(t + y\\right) \\frac{\\partial}{\\partial y} \\left(t + y + 1\\right) + \\frac{\\partial}{\\partial t} \\left(t + y + 1\\right)$"
      ],
      "text/plain": [
       "Eq(f2, (t + y)*Derivative(t + y + 1, y) + Derivative(t + y + 1, t))"
      ]
     },
     "metadata": {},
     "output_type": "display_data"
    },
    {
     "data": {
      "text/latex": [
       "$\\displaystyle f_{2} = t + y + 1$"
      ],
      "text/plain": [
       "Eq(f2, t + y + 1)"
      ]
     },
     "metadata": {},
     "output_type": "display_data"
    },
    {
     "data": {
      "text/latex": [
       "$\\displaystyle f_{2} = t + y + 1$"
      ],
      "text/plain": [
       "Eq(f2, t + y + 1)"
      ]
     },
     "metadata": {},
     "output_type": "display_data"
    },
    {
     "data": {
      "text/latex": [
       "Derivadas parciales de grado 3"
      ],
      "text/plain": [
       "<IPython.core.display.Latex object>"
      ]
     },
     "metadata": {},
     "output_type": "display_data"
    },
    {
     "data": {
      "text/latex": [
       "Forma:  $ \\quad f^{3}(t,y)= \\dfrac{\\partial \\:}{\\partial \\:t} f^{2}(t,y) + \\dfrac{\\partial \\:}{\\partial \\:y} f^{2}(t,y) \\dfrac{dy(t)}{dt}$"
      ],
      "text/plain": [
       "<IPython.core.display.Latex object>"
      ]
     },
     "metadata": {},
     "output_type": "display_data"
    },
    {
     "data": {
      "text/latex": [
       "$\\displaystyle f_{3} = \\left(t + y\\right) \\frac{\\partial}{\\partial y} \\left(t + y + 1\\right) + \\frac{\\partial}{\\partial t} \\left(t + y + 1\\right)$"
      ],
      "text/plain": [
       "Eq(f3, (t + y)*Derivative(t + y + 1, y) + Derivative(t + y + 1, t))"
      ]
     },
     "metadata": {},
     "output_type": "display_data"
    },
    {
     "data": {
      "text/latex": [
       "$\\displaystyle f_{3} = t + y + 1$"
      ],
      "text/plain": [
       "Eq(f3, t + y + 1)"
      ]
     },
     "metadata": {},
     "output_type": "display_data"
    },
    {
     "data": {
      "text/latex": [
       "$\\displaystyle f_{3} = t + y + 1$"
      ],
      "text/plain": [
       "Eq(f3, t + y + 1)"
      ]
     },
     "metadata": {},
     "output_type": "display_data"
    }
   ],
   "source": [
    "fi=[f]\n",
    "for i in range(1,4):\n",
    "    r= str(i)\n",
    "    l = str(i-1)\n",
    "    display(Latex('Derivadas parciales de grado '+r))\n",
    "    display(Latex('Forma:  $ \\quad f^{'+r+'}(t,y)= \\dfrac{\\partial \\:}{\\partial \\:t} f^{'+l+'}(t,y) + \\dfrac{\\partial \\:}{\\partial \\:y} f^{'+l+'}(t,y) \\dfrac{dy(t)}{dt}$'))\n",
    "    a=Derivative(fi[i-1],t)\n",
    "    b=Derivative(fi[i-1],y)\n",
    "    display(Eq(S(\"f\"+r),S(a)+S(b)*f))\n",
    "    display(Eq(S(\"f\"+r),S(a.doit())+S(b.doit())*f))\n",
    "    res = a.doit()+(b.doit()*f)\n",
    "    display(Eq(S(\"f\"+r),simplify(res)))\n",
    "    fi.append(simplify(res))"
   ]
  },
  {
   "cell_type": "code",
   "execution_count": 3,
   "metadata": {},
   "outputs": [
    {
     "data": {
      "text/latex": [
       "Definimos los valores que tendrá $t_i$"
      ],
      "text/plain": [
       "<IPython.core.display.Latex object>"
      ]
     },
     "metadata": {},
     "output_type": "display_data"
    },
    {
     "data": {
      "text/latex": [
       "$\\displaystyle t_{0} = 0$"
      ],
      "text/plain": [
       "Eq(t0, 0)"
      ]
     },
     "metadata": {},
     "output_type": "display_data"
    },
    {
     "data": {
      "text/latex": [
       "$\\displaystyle t_{1} = 0.1$"
      ],
      "text/plain": [
       "Eq(t1, 0.1)"
      ]
     },
     "metadata": {},
     "output_type": "display_data"
    },
    {
     "data": {
      "text/latex": [
       "$\\displaystyle t_{2} = 0.2$"
      ],
      "text/plain": [
       "Eq(t2, 0.2)"
      ]
     },
     "metadata": {},
     "output_type": "display_data"
    },
    {
     "data": {
      "text/latex": [
       "$\\displaystyle t_{3} = 0.3$"
      ],
      "text/plain": [
       "Eq(t3, 0.3)"
      ]
     },
     "metadata": {},
     "output_type": "display_data"
    },
    {
     "data": {
      "text/latex": [
       "$\\displaystyle t_{4} = 0.4$"
      ],
      "text/plain": [
       "Eq(t4, 0.4)"
      ]
     },
     "metadata": {},
     "output_type": "display_data"
    },
    {
     "data": {
      "text/latex": [
       "$\\displaystyle t_{5} = 0.5$"
      ],
      "text/plain": [
       "Eq(t5, 0.5)"
      ]
     },
     "metadata": {},
     "output_type": "display_data"
    },
    {
     "data": {
      "text/latex": [
       "$\\displaystyle t_{6} = 0.6$"
      ],
      "text/plain": [
       "Eq(t6, 0.6)"
      ]
     },
     "metadata": {},
     "output_type": "display_data"
    },
    {
     "data": {
      "text/latex": [
       "$\\displaystyle t_{7} = 0.7$"
      ],
      "text/plain": [
       "Eq(t7, 0.7)"
      ]
     },
     "metadata": {},
     "output_type": "display_data"
    },
    {
     "data": {
      "text/latex": [
       "$\\displaystyle t_{8} = 0.8$"
      ],
      "text/plain": [
       "Eq(t8, 0.8)"
      ]
     },
     "metadata": {},
     "output_type": "display_data"
    },
    {
     "data": {
      "text/latex": [
       "$\\displaystyle t_{9} = 0.9$"
      ],
      "text/plain": [
       "Eq(t9, 0.9)"
      ]
     },
     "metadata": {},
     "output_type": "display_data"
    },
    {
     "data": {
      "text/latex": [
       "$\\displaystyle t_{10} = 1.0$"
      ],
      "text/plain": [
       "Eq(t10, 1.0)"
      ]
     },
     "metadata": {},
     "output_type": "display_data"
    }
   ],
   "source": [
    "ti=[t0]\n",
    "display(Latex('Definimos los valores que tendrá $t_i$'))\n",
    "ex=(tf/h)\n",
    "for i in range(0,int(ex)):\n",
    "      res = ti[i]+h\n",
    "      ti.append(res)\n",
    "      r= str(i)\n",
    "      s = str('t'+r)\n",
    "      display(Eq(S(s),ti[i]))\n",
    "jh= 't'+str(len(ti)-1)\n",
    "display(Eq(S(jh),ti[-1]))"
   ]
  },
  {
   "cell_type": "code",
   "execution_count": 4,
   "metadata": {},
   "outputs": [
    {
     "data": {
      "text/latex": [
       "Aplicamos la fórmula del Método de Taylor de orden 4"
      ],
      "text/plain": [
       "<IPython.core.display.Latex object>"
      ]
     },
     "metadata": {},
     "output_type": "display_data"
    },
    {
     "data": {
      "text/latex": [
       "$y_{1}=y_{0}+f(t_{0}, y_{0}) h+\\dfrac{f^{\\prime}(t_{0}, y_{0})}{2} h^2+\\dfrac{f^{\\prime \\prime}(t_{0}, y_{0} )}{6} h^3+\\dfrac{f^{\\prime \\prime \\prime}(t_{0}, y_{0})}{24} h^4$"
      ],
      "text/plain": [
       "<IPython.core.display.Latex object>"
      ]
     },
     "metadata": {},
     "output_type": "display_data"
    },
    {
     "data": {
      "text/latex": [
       "$\\displaystyle y_{1} = 0.105170833333333 t + 0.105170833333333 y + 1.00517083333333$"
      ],
      "text/plain": [
       "Eq(y1, 0.105170833333333*t + 0.105170833333333*y + 1.00517083333333)"
      ]
     },
     "metadata": {},
     "output_type": "display_data"
    },
    {
     "data": {
      "text/latex": [
       "$\\displaystyle y_{1} = 1.11034166666667$"
      ],
      "text/plain": [
       "Eq(y1, 1.11034166666667)"
      ]
     },
     "metadata": {},
     "output_type": "display_data"
    },
    {
     "data": {
      "text/latex": [
       "$\\displaystyle y_{1} = 1.11034166666667$"
      ],
      "text/plain": [
       "Eq(y1, 1.11034166666667)"
      ]
     },
     "metadata": {},
     "output_type": "display_data"
    },
    {
     "data": {
      "text/latex": [
       "$y_{2}=y_{1}+f(t_{1}, y_{1}) h+\\dfrac{f^{\\prime}(t_{1}, y_{1})}{2} h^2+\\dfrac{f^{\\prime \\prime}(t_{1}, y_{1} )}{6} h^3+\\dfrac{f^{\\prime \\prime \\prime}(t_{1}, y_{1})}{24} h^4$"
      ],
      "text/plain": [
       "<IPython.core.display.Latex object>"
      ]
     },
     "metadata": {},
     "output_type": "display_data"
    },
    {
     "data": {
      "text/latex": [
       "$\\displaystyle y_{2} = 0.105170833333333 t + 0.105170833333333 y + 1.1155125$"
      ],
      "text/plain": [
       "Eq(y2, 0.105170833333333*t + 0.105170833333333*y + 1.1155125)"
      ]
     },
     "metadata": {},
     "output_type": "display_data"
    },
    {
     "data": {
      "text/latex": [
       "$\\displaystyle y_{2} = 1.24280514170139$"
      ],
      "text/plain": [
       "Eq(y2, 1.24280514170139)"
      ]
     },
     "metadata": {},
     "output_type": "display_data"
    },
    {
     "data": {
      "text/latex": [
       "$\\displaystyle y_{2} = 1.24280514170139$"
      ],
      "text/plain": [
       "Eq(y2, 1.24280514170139)"
      ]
     },
     "metadata": {},
     "output_type": "display_data"
    },
    {
     "data": {
      "text/latex": [
       "$y_{3}=y_{2}+f(t_{2}, y_{2}) h+\\dfrac{f^{\\prime}(t_{2}, y_{2})}{2} h^2+\\dfrac{f^{\\prime \\prime}(t_{2}, y_{2} )}{6} h^3+\\dfrac{f^{\\prime \\prime \\prime}(t_{2}, y_{2})}{24} h^4$"
      ],
      "text/plain": [
       "<IPython.core.display.Latex object>"
      ]
     },
     "metadata": {},
     "output_type": "display_data"
    },
    {
     "data": {
      "text/latex": [
       "$\\displaystyle y_{3} = 0.105170833333333 t + 0.105170833333333 y + 1.24797597503472$"
      ],
      "text/plain": [
       "Eq(y3, 0.105170833333333*t + 0.105170833333333*y + 1.24797597503472)"
      ]
     },
     "metadata": {},
     "output_type": "display_data"
    },
    {
     "data": {
      "text/latex": [
       "$\\displaystyle y_{3} = 1.39971699412507$"
      ],
      "text/plain": [
       "Eq(y3, 1.39971699412507)"
      ]
     },
     "metadata": {},
     "output_type": "display_data"
    },
    {
     "data": {
      "text/latex": [
       "$\\displaystyle y_{3} = 1.39971699412507$"
      ],
      "text/plain": [
       "Eq(y3, 1.39971699412507)"
      ]
     },
     "metadata": {},
     "output_type": "display_data"
    },
    {
     "data": {
      "text/latex": [
       "$y_{4}=y_{3}+f(t_{3}, y_{3}) h+\\dfrac{f^{\\prime}(t_{3}, y_{3})}{2} h^2+\\dfrac{f^{\\prime \\prime}(t_{3}, y_{3} )}{6} h^3+\\dfrac{f^{\\prime \\prime \\prime}(t_{3}, y_{3})}{24} h^4$"
      ],
      "text/plain": [
       "<IPython.core.display.Latex object>"
      ]
     },
     "metadata": {},
     "output_type": "display_data"
    },
    {
     "data": {
      "text/latex": [
       "$\\displaystyle y_{4} = 0.105170833333333 t + 0.105170833333333 y + 1.40488782745841$"
      ],
      "text/plain": [
       "Eq(y4, 0.105170833333333*t + 0.105170833333333*y + 1.40488782745841)"
      ]
     },
     "metadata": {},
     "output_type": "display_data"
    },
    {
     "data": {
      "text/latex": [
       "$\\displaystyle y_{4} = 1.58364848016137$"
      ],
      "text/plain": [
       "Eq(y4, 1.58364848016137)"
      ]
     },
     "metadata": {},
     "output_type": "display_data"
    },
    {
     "data": {
      "text/latex": [
       "$\\displaystyle y_{4} = 1.58364848016137$"
      ],
      "text/plain": [
       "Eq(y4, 1.58364848016137)"
      ]
     },
     "metadata": {},
     "output_type": "display_data"
    },
    {
     "data": {
      "text/latex": [
       "$y_{5}=y_{4}+f(t_{4}, y_{4}) h+\\dfrac{f^{\\prime}(t_{4}, y_{4})}{2} h^2+\\dfrac{f^{\\prime \\prime}(t_{4}, y_{4} )}{6} h^3+\\dfrac{f^{\\prime \\prime \\prime}(t_{4}, y_{4})}{24} h^4$"
      ],
      "text/plain": [
       "<IPython.core.display.Latex object>"
      ]
     },
     "metadata": {},
     "output_type": "display_data"
    },
    {
     "data": {
      "text/latex": [
       "$\\displaystyle y_{5} = 0.105170833333333 t + 0.105170833333333 y + 1.5888193134947$"
      ],
      "text/plain": [
       "Eq(y5, 0.105170833333333*t + 0.105170833333333*y + 1.5888193134947)"
      ]
     },
     "metadata": {},
     "output_type": "display_data"
    },
    {
     "data": {
      "text/latex": [
       "$\\displaystyle y_{5} = 1.79744127719367$"
      ],
      "text/plain": [
       "Eq(y5, 1.79744127719367)"
      ]
     },
     "metadata": {},
     "output_type": "display_data"
    },
    {
     "data": {
      "text/latex": [
       "$\\displaystyle y_{5} = 1.79744127719367$"
      ],
      "text/plain": [
       "Eq(y5, 1.79744127719367)"
      ]
     },
     "metadata": {},
     "output_type": "display_data"
    },
    {
     "data": {
      "text/latex": [
       "$y_{6}=y_{5}+f(t_{5}, y_{5}) h+\\dfrac{f^{\\prime}(t_{5}, y_{5})}{2} h^2+\\dfrac{f^{\\prime \\prime}(t_{5}, y_{5} )}{6} h^3+\\dfrac{f^{\\prime \\prime \\prime}(t_{5}, y_{5})}{24} h^4$"
      ],
      "text/plain": [
       "<IPython.core.display.Latex object>"
      ]
     },
     "metadata": {},
     "output_type": "display_data"
    },
    {
     "data": {
      "text/latex": [
       "$\\displaystyle y_{6} = 0.105170833333333 t + 0.105170833333333 y + 1.80261211052701$"
      ],
      "text/plain": [
       "Eq(y6, 0.105170833333333*t + 0.105170833333333*y + 1.80261211052701)"
      ]
     },
     "metadata": {},
     "output_type": "display_data"
    },
    {
     "data": {
      "text/latex": [
       "$\\displaystyle y_{6} = 2.04423592418386$"
      ],
      "text/plain": [
       "Eq(y6, 2.04423592418386)"
      ]
     },
     "metadata": {},
     "output_type": "display_data"
    },
    {
     "data": {
      "text/latex": [
       "$\\displaystyle y_{6} = 2.04423592418386$"
      ],
      "text/plain": [
       "Eq(y6, 2.04423592418386)"
      ]
     },
     "metadata": {},
     "output_type": "display_data"
    },
    {
     "data": {
      "text/latex": [
       "$y_{7}=y_{6}+f(t_{6}, y_{6}) h+\\dfrac{f^{\\prime}(t_{6}, y_{6})}{2} h^2+\\dfrac{f^{\\prime \\prime}(t_{6}, y_{6} )}{6} h^3+\\dfrac{f^{\\prime \\prime \\prime}(t_{6}, y_{6})}{24} h^4$"
      ],
      "text/plain": [
       "<IPython.core.display.Latex object>"
      ]
     },
     "metadata": {},
     "output_type": "display_data"
    },
    {
     "data": {
      "text/latex": [
       "$\\displaystyle y_{7} = 0.105170833333333 t + 0.105170833333333 y + 2.0494067575172$"
      ],
      "text/plain": [
       "Eq(y7, 0.105170833333333*t + 0.105170833333333*y + 2.0494067575172)"
      ]
     },
     "metadata": {},
     "output_type": "display_data"
    },
    {
     "data": {
      "text/latex": [
       "$\\displaystyle y_{7} = 2.32750325319355$"
      ],
      "text/plain": [
       "Eq(y7, 2.32750325319355)"
      ]
     },
     "metadata": {},
     "output_type": "display_data"
    },
    {
     "data": {
      "text/latex": [
       "$\\displaystyle y_{7} = 2.32750325319355$"
      ],
      "text/plain": [
       "Eq(y7, 2.32750325319355)"
      ]
     },
     "metadata": {},
     "output_type": "display_data"
    },
    {
     "data": {
      "text/latex": [
       "$y_{8}=y_{7}+f(t_{7}, y_{7}) h+\\dfrac{f^{\\prime}(t_{7}, y_{7})}{2} h^2+\\dfrac{f^{\\prime \\prime}(t_{7}, y_{7} )}{6} h^3+\\dfrac{f^{\\prime \\prime \\prime}(t_{7}, y_{7})}{24} h^4$"
      ],
      "text/plain": [
       "<IPython.core.display.Latex object>"
      ]
     },
     "metadata": {},
     "output_type": "display_data"
    },
    {
     "data": {
      "text/latex": [
       "$\\displaystyle y_{8} = 0.105170833333333 t + 0.105170833333333 y + 2.33267408652689$"
      ],
      "text/plain": [
       "Eq(y8, 0.105170833333333*t + 0.105170833333333*y + 2.33267408652689)"
      ]
     },
     "metadata": {},
     "output_type": "display_data"
    },
    {
     "data": {
      "text/latex": [
       "$\\displaystyle y_{8} = 2.65107912658463$"
      ],
      "text/plain": [
       "Eq(y8, 2.65107912658463)"
      ]
     },
     "metadata": {},
     "output_type": "display_data"
    },
    {
     "data": {
      "text/latex": [
       "$\\displaystyle y_{8} = 2.65107912658463$"
      ],
      "text/plain": [
       "Eq(y8, 2.65107912658463)"
      ]
     },
     "metadata": {},
     "output_type": "display_data"
    },
    {
     "data": {
      "text/latex": [
       "$y_{9}=y_{8}+f(t_{8}, y_{8}) h+\\dfrac{f^{\\prime}(t_{8}, y_{8})}{2} h^2+\\dfrac{f^{\\prime \\prime}(t_{8}, y_{8} )}{6} h^3+\\dfrac{f^{\\prime \\prime \\prime}(t_{8}, y_{8})}{24} h^4$"
      ],
      "text/plain": [
       "<IPython.core.display.Latex object>"
      ]
     },
     "metadata": {},
     "output_type": "display_data"
    },
    {
     "data": {
      "text/latex": [
       "$\\displaystyle y_{9} = 0.105170833333333 t + 0.105170833333333 y + 2.65624995991796$"
      ],
      "text/plain": [
       "Eq(y9, 0.105170833333333*t + 0.105170833333333*y + 2.65624995991796)"
      ]
     },
     "metadata": {},
     "output_type": "display_data"
    },
    {
     "data": {
      "text/latex": [
       "$\\displaystyle y_{9} = 3.01920282756014$"
      ],
      "text/plain": [
       "Eq(y9, 3.01920282756014)"
      ]
     },
     "metadata": {},
     "output_type": "display_data"
    },
    {
     "data": {
      "text/latex": [
       "$\\displaystyle y_{9} = 3.01920282756014$"
      ],
      "text/plain": [
       "Eq(y9, 3.01920282756014)"
      ]
     },
     "metadata": {},
     "output_type": "display_data"
    },
    {
     "data": {
      "text/latex": [
       "$y_{10}=y_{9}+f(t_{9}, y_{9}) h+\\dfrac{f^{\\prime}(t_{9}, y_{9})}{2} h^2+\\dfrac{f^{\\prime \\prime}(t_{9}, y_{9} )}{6} h^3+\\dfrac{f^{\\prime \\prime \\prime}(t_{9}, y_{9})}{24} h^4$"
      ],
      "text/plain": [
       "<IPython.core.display.Latex object>"
      ]
     },
     "metadata": {},
     "output_type": "display_data"
    },
    {
     "data": {
      "text/latex": [
       "$\\displaystyle y_{10} = 0.105170833333333 t + 0.105170833333333 y + 3.02437366089347$"
      ],
      "text/plain": [
       "Eq(y10, 0.105170833333333*t + 0.105170833333333*y + 3.02437366089347)"
      ]
     },
     "metadata": {},
     "output_type": "display_data"
    },
    {
     "data": {
      "text/latex": [
       "$\\displaystyle y_{10} = 3.43655948827033$"
      ],
      "text/plain": [
       "Eq(y10, 3.43655948827033)"
      ]
     },
     "metadata": {},
     "output_type": "display_data"
    },
    {
     "data": {
      "text/latex": [
       "$\\displaystyle y_{10} = 3.43655948827033$"
      ],
      "text/plain": [
       "Eq(y10, 3.43655948827033)"
      ]
     },
     "metadata": {},
     "output_type": "display_data"
    }
   ],
   "source": [
    "yi = [y0]\n",
    "display(Latex('Aplicamos la fórmula del Método de Taylor de orden 4'))\n",
    "for i in range(0,len(ti)-1):\n",
    "    r = str(i)\n",
    "    l = str(i+1)\n",
    "    display(Latex('$y_{'+l+'}=y_{'+r+'}+f(t_{'+r+'}, y_{'+r+'}) h+\\dfrac{f^{\\prime}(t_{'+r+'}, y_{'+r+'})}{2} h^2+\\dfrac{f^{\\prime \\prime}(t_{'+r+'}, y_{'+r+'} )}{6} h^3+\\dfrac{f^{\\prime \\prime \\prime}(t_{'+r+'}, y_{'+r+'})}{24} h^4$'))\n",
    "    yix = yi[i] + (fi[0]*h) + (fi[1]*(h**2)/2) + (fi[2]*(h**3)/6)+ (fi[3]*(h**4)/24)\n",
    "    display(Eq(S(\"y\"+l),yix))\n",
    "    res = yix.subs(t, ti[i]).subs(y, yi[i]).subs(h, h)\n",
    "    display(Eq(S(\"y\"+l),res))\n",
    "    display(Eq(S(\"y\"+l),res.evalf()))\n",
    "    yi.append(res)"
   ]
  }
 ],
 "metadata": {
  "kernelspec": {
   "display_name": "Python 3.8.10 64-bit",
   "language": "python",
   "name": "python3"
  },
  "language_info": {
   "codemirror_mode": {
    "name": "ipython",
    "version": 3
   },
   "file_extension": ".py",
   "mimetype": "text/x-python",
   "name": "python",
   "nbconvert_exporter": "python",
   "pygments_lexer": "ipython3",
   "version": "3.11.3"
  },
  "orig_nbformat": 4,
  "vscode": {
   "interpreter": {
    "hash": "916dbcbb3f70747c44a77c7bcd40155683ae19c65e1c03b4aa3499c5328201f1"
   }
  }
 },
 "nbformat": 4,
 "nbformat_minor": 2
}
